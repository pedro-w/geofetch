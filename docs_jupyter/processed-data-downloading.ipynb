{
 "cells": [
  {
   "cell_type": "markdown",
   "metadata": {},
   "source": [
    "# geofetch tutorial for processed data\n",
    "\n",
    "The [GSE185701 data set](https://www.ncbi.nlm.nih.gov/geo/query/acc.cgi?acc=GSE185701) has about 355 Mb of processed data that contains 57 Supplementary files, so it's a quick download for a test case. Let's take a quick peek at the geofetch version:"
   ]
  },
  {
   "cell_type": "code",
   "execution_count": 1,
   "metadata": {},
   "outputs": [
    {
     "name": "stdout",
     "output_type": "stream",
     "text": [
      "geofetch 0.9.0\n"
     ]
    }
   ],
   "source": [
    "geofetch --version"
   ]
  },
  {
   "cell_type": "markdown",
   "metadata": {},
   "source": [
    "To see your CLI options, invoke `geofetch -h`:"
   ]
  },
  {
   "cell_type": "code",
   "execution_count": 2,
   "metadata": {
    "scrolled": true
   },
   "outputs": [
    {
     "name": "stdout",
     "output_type": "stream",
     "text": [
      "usage: geofetch [-h] [-V] -i INPUT [-n NAME] [-m METADATA_ROOT]\n",
      "                [-u METADATA_FOLDER] [--just-metadata] [-r]\n",
      "                [--config-template CONFIG_TEMPLATE]\n",
      "                [--pipeline_samples PIPELINE_SAMPLES]\n",
      "                [--pipeline_project PIPELINE_PROJECT] [-k SKIP] [--acc-anno]\n",
      "                [--discard-soft] [--const-limit-project CONST_LIMIT_PROJECT]\n",
      "                [--const-limit-discard CONST_LIMIT_DISCARD]\n",
      "                [--attr-limit-truncate ATTR_LIMIT_TRUNCATE] [-p]\n",
      "                [--data-source {all,samples,series}] [--filter FILTER]\n",
      "                [--filter-size FILTER_SIZE] [-g GEO_FOLDER] [-x]\n",
      "                [-b BAM_FOLDER] [-f FQ_FOLDER] [--use-key-subset] [--silent]\n",
      "                [--verbosity V] [--logdev]\n",
      "\n",
      "Automatic GEO and SRA data downloader\n",
      "\n",
      "optional arguments:\n",
      "  -h, --help            show this help message and exit\n",
      "  -V, --version         show program's version number and exit\n",
      "  -i INPUT, --input INPUT\n",
      "                        required: a GEO (GSE) accession, or a file with a list\n",
      "                        of GSE numbers\n",
      "  -n NAME, --name NAME  Specify a project name. Defaults to GSE number\n",
      "  -m METADATA_ROOT, --metadata-root METADATA_ROOT\n",
      "                        Specify a parent folder location to store metadata.\n",
      "                        The project name will be added as a subfolder\n",
      "                        [Default: $SRAMETA:]\n",
      "  -u METADATA_FOLDER, --metadata-folder METADATA_FOLDER\n",
      "                        Specify an absolute folder location to store metadata.\n",
      "                        No subfolder will be added. Overrides value of\n",
      "                        --metadata-root [Default: Not used (--metadata-root is\n",
      "                        used by default)]\n",
      "  --just-metadata       If set, don't actually run downloads, just create\n",
      "                        metadata\n",
      "  -r, --refresh-metadata\n",
      "                        If set, re-download metadata even if it exists.\n",
      "  --config-template CONFIG_TEMPLATE\n",
      "                        Project config yaml file template.\n",
      "  --pipeline_samples PIPELINE_SAMPLES\n",
      "                        Optional: Specify one or more filepaths to SAMPLES\n",
      "                        pipeline interface yaml files. These will be added to\n",
      "                        the project config file to make it immediately\n",
      "                        compatible with looper. [Default: null]\n",
      "  --pipeline_project PIPELINE_PROJECT\n",
      "                        Optional: Specify one or more filepaths to PROJECT\n",
      "                        pipeline interface yaml files. These will be added to\n",
      "                        the project config file to make it immediately\n",
      "                        compatible with looper. [Default: null]\n",
      "  -k SKIP, --skip SKIP  Skip some accessions. [Default: no skip].\n",
      "  --acc-anno            Optional: Produce annotation sheets for each\n",
      "                        accession. Project combined PEP for the whole project\n",
      "                        won't be produced.\n",
      "  --discard-soft        Optional: After creation of PEP files, all soft and\n",
      "                        additional files will be deleted\n",
      "  --const-limit-project CONST_LIMIT_PROJECT\n",
      "                        Optional: Limit of the number of the constant sample\n",
      "                        characters that should not be in project yaml.\n",
      "                        [Default: 50]\n",
      "  --const-limit-discard CONST_LIMIT_DISCARD\n",
      "                        Optional: Limit of the number of the constant sample\n",
      "                        characters that should not be discarded [Default: 250]\n",
      "  --attr-limit-truncate ATTR_LIMIT_TRUNCATE\n",
      "                        Optional: Limit of the number of sample characters.Any\n",
      "                        attribute with more than X characters will truncate to\n",
      "                        the first X, where X is a number of characters\n",
      "                        [Default: 500]\n",
      "  --silent              Silence logging. Overrides verbosity.\n",
      "  --verbosity V         Set logging level (1-5 or logging module level name)\n",
      "  --logdev              Expand content of logging message format.\n",
      "\n",
      "processed:\n",
      "  -p, --processed       Download processed data [Default: download raw data].\n",
      "  --data-source {all,samples,series}\n",
      "                        Optional: Specifies the source of data on the GEO\n",
      "                        record to retrieve processed data, which may be\n",
      "                        attached to the collective series entity, or to\n",
      "                        individual samples. Allowable values are: samples,\n",
      "                        series or both (all). Ignored unless 'processed' flag\n",
      "                        is set. [Default: samples]\n",
      "  --filter FILTER       Optional: Filter regex for processed filenames\n",
      "                        [Default: None].Ignored unless 'processed' flag is\n",
      "                        set.\n",
      "  --filter-size FILTER_SIZE\n",
      "                        Optional: Filter size for processed files that are\n",
      "                        stored as sample repository [Default: None]. Works\n",
      "                        only for sample data. Supported input formats : 12B,\n",
      "                        12KB, 12MB, 12GB. Ignored unless 'processed' flag is\n",
      "                        set.\n",
      "  -g GEO_FOLDER, --geo-folder GEO_FOLDER\n",
      "                        Optional: Specify a location to store processed GEO\n",
      "                        files. Ignored unless 'processed' flag is\n",
      "                        set.[Default: $GEODATA:]\n",
      "\n",
      "raw:\n",
      "  -x, --split-experiments\n",
      "                        Split SRR runs into individual samples. By default,\n",
      "                        SRX experiments with multiple SRR Runs will have a\n",
      "                        single entry in the annotation table, with each run as\n",
      "                        a separate row in the subannotation table. This\n",
      "                        setting instead treats each run as a separate sample\n",
      "  -b BAM_FOLDER, --bam-folder BAM_FOLDER\n",
      "                        Optional: Specify folder of bam files. Geofetch will\n",
      "                        not download sra files when corresponding bam files\n",
      "                        already exist. [Default: $SRABAM:]\n",
      "  -f FQ_FOLDER, --fq-folder FQ_FOLDER\n",
      "                        Optional: Specify folder of fastq files. Geofetch will\n",
      "                        not download sra files when corresponding fastq files\n",
      "                        already exist. [Default: $SRAFQ:]\n",
      "  --use-key-subset      Use just the keys defined in this module when writing\n",
      "                        out metadata.\n"
     ]
    }
   ],
   "source": [
    "geofetch -h"
   ]
  },
  {
   "cell_type": "markdown",
   "metadata": {},
   "source": [
    "Calling geofetch will do 4 tasks: \n",
    "\n",
    "1. download all or filtered processed files from `GSE#####` into your geo folder.\n",
    "2. download all metadata from GEO and store in your metadata folder.\n",
    "2. produce a PEP-compatible sample table, `PROJECT_NAME_sample_processed.csv` and `PROJECT_NAME_series_processed.csv`, in your metadata folder.\n",
    "3. produce a PEP-compatible project configuration file, `PROJECT_NAME_sample_processed.yaml` and `PROJECT_NAME_series_processed.yaml`, in your metadata folder.\n",
    "\n",
    "Complete details about geofetch outputs is cataloged in the [metadata outputs reference](metadata_output.md)."
   ]
  },
  {
   "cell_type": "markdown",
   "metadata": {},
   "source": [
    "## Download the data\n",
    "\n",
    "First, create the metadata for processed data (by adding --processed and --just-metadata):"
   ]
  },
  {
   "cell_type": "code",
   "execution_count": 3,
   "metadata": {},
   "outputs": [
    {
     "name": "stdout",
     "output_type": "stream",
     "text": [
      "Metadata folder: /home/bnt4me/Virginia/repos/geof2/geofetch/docs_jupyter/bright_test\n",
      "Trying GSE185701 (not a file) as accession...\n",
      "Skipped 0 accessions. Starting now.\n",
      "\u001b[38;5;200mProcessing accession 1 of 1: 'GSE185701'\u001b[0m\n",
      "--2022-06-10 14:43:11--  https://www.ncbi.nlm.nih.gov/geo/query/acc.cgi?targ=gse&acc=GSE185701&form=text&view=full\n",
      "Resolving www.ncbi.nlm.nih.gov (www.ncbi.nlm.nih.gov)... 2607:f220:41e:4290::110, 130.14.29.110\n",
      "Connecting to www.ncbi.nlm.nih.gov (www.ncbi.nlm.nih.gov)|2607:f220:41e:4290::110|:443... connected.\n",
      "HTTP request sent, awaiting response... 200 OK\n",
      "Length: unspecified [geo/text]\n",
      "Saving to: ‘/home/bnt4me/Virginia/repos/geof2/geofetch/docs_jupyter/bright_test/GSE185701_GSE.soft’\n",
      "\n",
      "/home/bnt4me/Virgin     [ <=>                ]   2.82K  --.-KB/s    in 0s      \n",
      "\n",
      "2022-06-10 14:43:12 (207 MB/s) - ‘/home/bnt4me/Virginia/repos/geof2/geofetch/docs_jupyter/bright_test/GSE185701_GSE.soft’ saved [2885]\n",
      "\n",
      "--2022-06-10 14:43:12--  https://www.ncbi.nlm.nih.gov/geo/query/acc.cgi?targ=gsm&acc=GSE185701&form=text&view=full\n",
      "Resolving www.ncbi.nlm.nih.gov (www.ncbi.nlm.nih.gov)... 2607:f220:41e:4290::110, 130.14.29.110\n",
      "Connecting to www.ncbi.nlm.nih.gov (www.ncbi.nlm.nih.gov)|2607:f220:41e:4290::110|:443... connected.\n",
      "HTTP request sent, awaiting response... 200 OK\n",
      "Length: unspecified [geo/text]\n",
      "Saving to: ‘/home/bnt4me/Virginia/repos/geof2/geofetch/docs_jupyter/bright_test/GSE185701_GSM.soft’\n",
      "\n",
      "/home/bnt4me/Virgin     [  <=>               ]  39.51K   110KB/s    in 0.4s    \n",
      "\n",
      "2022-06-10 14:43:12 (110 KB/s) - ‘/home/bnt4me/Virginia/repos/geof2/geofetch/docs_jupyter/bright_test/GSE185701_GSM.soft’ saved [40454]\n",
      "\n",
      "\u001b[38;5;242m\n",
      "--2022-06-10 14:43:12--  ftp://ftp.ncbi.nlm.nih.gov/geo/series/GSE185nnn/GSE185701/suppl/filelist.txt\n",
      "           => ‘/home/bnt4me/Virginia/repos/geof2/geofetch/docs_jupyter/bright_test/GSE185701_file_list.txt’\n",
      "Resolving ftp.ncbi.nlm.nih.gov (ftp.ncbi.nlm.nih.gov)... 2607:f220:41f:250::228, 2607:f220:41f:250::229, 130.14.250.7, ...\n",
      "Connecting to ftp.ncbi.nlm.nih.gov (ftp.ncbi.nlm.nih.gov)|2607:f220:41f:250::228|:21... connected.\n",
      "Logging in as anonymous ... Logged in!\n",
      "==> SYST ... done.    ==> PWD ... done.\n",
      "==> TYPE I ... done.  ==> CWD (1) /geo/series/GSE185nnn/GSE185701/suppl ... done.\n",
      "==> SIZE filelist.txt ... 794\n",
      "==> EPSV ... done.    ==> RETR filelist.txt ... done.\n",
      "Length: 794 (unauthoritative)\n",
      "\n",
      "filelist.txt        100%[===================>]     794  --.-KB/s    in 0.001s  \n",
      "\n",
      "2022-06-10 14:43:13 (716 KB/s) - ‘/home/bnt4me/Virginia/repos/geof2/geofetch/docs_jupyter/bright_test/GSE185701_file_list.txt’ saved [794]\n",
      "\n",
      "\u001b[38;5;242m0\u001b[0m\n",
      "\u001b[0m\n",
      "Total number of processed SAMPLES files found is: 8\n",
      "Total number of processed SERIES files found is: 1\n",
      "Expanding metadata list...\n",
      "Expanding metadata list...\n",
      "Finished processing 1 accession(s)\n",
      "Unifying and saving of metadata... \n",
      "\u001b[92mFile /home/bnt4me/Virginia/repos/geof2/geofetch/docs_jupyter/bright_test/GSE185701_samples.csv has been saved successfully\u001b[0m\n",
      "  Config file: /home/bnt4me/Virginia/repos/geof2/geofetch/docs_jupyter/bright_test/GSE185701_samples.yaml\n"
     ]
    }
   ],
   "source": [
    "geofetch -i GSE185701 --processed -n bright_test --just-metadata"
   ]
  },
  {
   "cell_type": "code",
   "execution_count": 4,
   "metadata": {},
   "outputs": [
    {
     "name": "stdout",
     "output_type": "stream",
     "text": [
      "GSE185701_file_list.txt  GSE185701_GSM.soft     GSE185701_samples.yaml\n",
      "GSE185701_GSE.soft       GSE185701_samples.csv\n"
     ]
    }
   ],
   "source": [
    "ls bright_test"
   ]
  },
  {
   "cell_type": "markdown",
   "metadata": {},
   "source": [
    "The `.soft` files are the direct output from GEO, which contain all the metadata as stored by GEO, for both the experiment (`_GSE`) and for the individual samples (`_GSM`). Geofetch also produces a `csv` file with the SRA metadata. The filtered version (ending in `_filt`) would contain only the specified subset of the samples if we didn't request them all, but in this case, since we only gave an accession, it is identical to the complete file. Additionally, file_list.txt is downloaded, that contains information about size, type and creation date of all sample files.\n",
    "\n",
    "Finally, there are the 2 files that make up the PEP: the `_config.yaml` file and the `_annotation.csv` file (for samples and series). Let's see what's in these files now."
   ]
  },
  {
   "cell_type": "code",
   "execution_count": 10,
   "metadata": {},
   "outputs": [
    {
     "name": "stdout",
     "output_type": "stream",
     "text": [
      "# Autogenerated by geofetch\n",
      "\n",
      "pep_version: 2.1.0\n",
      "project_name: GSE185701\n",
      "sample_table: GSE185701_samples.csv\n",
      "\n",
      "sample_modifiers:\n",
      "  append:\n",
      "    output_file_path: FILES\n",
      "    Sample_growth_protocol_ch1: Huh 7 was cultured in Dulbecco’s modified Eagle’s medium (DMEM) (Invitrogen, Carlsbad, CA, USA) containing 10% fetal bovine serum (FBS) (HyClone, Logan, UT, USA) and antibiotics (penicillin and streptomycin, Invitrogen) at 37 °C in 5% CO2.\n",
      "    \n",
      "  derive:\n",
      "    attributes: [output_file_path]\n",
      "    sources:\n",
      "      FILES: /{GSE}/{file}\n",
      "\n",
      "\n",
      "\n"
     ]
    }
   ],
   "source": [
    "cat bright_test/GSE185701_samples.yaml"
   ]
  },
  {
   "cell_type": "markdown",
   "metadata": {},
   "source": [
    "There are few important things to note in this file: \n",
    "* First, see in the PEP that `sample_table` points to the csv file produced by geofetch. \n",
    "* Second: output_file_path is location of all the files. \n",
    "* Third: sample_modifier Sample_growth_protocol_ch1 is constant sample character and is larger then 50 characters so it is deleted from csv file. For large project it can significantly reduced size of the metadata\n",
    "\n",
    "Now let's look at the first 100 characters of the csv file:"
   ]
  },
  {
   "cell_type": "code",
   "execution_count": 11,
   "metadata": {
    "scrolled": true
   },
   "outputs": [
    {
     "name": "stdout",
     "output_type": "stream",
     "text": [
      "GSE,Sample_title,Sample_geo_accession,Sample_status,Sample_submission_date,Sample_last_update_date,S\n",
      "GSE185701,Huh7_siNC_H3K27ac,GSM5621756,Public on Mar 01 2022,Oct 12 2021,Mar 03 2022,SRA,1,Huh 7,Hom\n",
      "GSE185701,Huh7_siNC_H3K27ac,GSM5621756,Public on Mar 01 2022,Oct 12 2021,Mar 03 2022,SRA,1,Huh 7,Hom\n",
      "GSE185701,Huh7_siDHX37_H3K27ac,GSM5621758,Public on Mar 01 2022,Oct 12 2021,Mar 03 2022,SRA,1,Huh 7,\n",
      "GSE185701,Huh7_siDHX37_H3K27ac,GSM5621758,Public on Mar 01 2022,Oct 12 2021,Mar 03 2022,SRA,1,Huh 7,\n",
      "GSE185701,Huh7_DHX37,GSM5621760,Public on Mar 01 2022,Oct 12 2021,Mar 03 2022,SRA,1,Huh 7,Homo sapie\n",
      "GSE185701,Huh7_DHX37,GSM5621760,Public on Mar 01 2022,Oct 12 2021,Mar 03 2022,SRA,1,Huh 7,Homo sapie\n",
      "GSE185701,Huh7_PLRG1,GSM5621761,Public on Mar 01 2022,Oct 12 2021,Mar 03 2022,SRA,1,Huh 7,Homo sapie\n",
      "GSE185701,Huh7_PLRG1,GSM5621761,Public on Mar 01 2022,Oct 12 2021,Mar 03 2022,SRA,1,Huh 7,Homo sapie\n"
     ]
    }
   ],
   "source": [
    "cut -c -100 bright_test/GSE185701_samples.csv"
   ]
  },
  {
   "cell_type": "markdown",
   "metadata": {},
   "source": [
    "Now let's download the actual data. This time we will will be downloading data from the [GSE185701 data set](https://www.ncbi.nlm.nih.gov/geo/query/acc.cgi?acc=GSE185701) .\n",
    "Let's additionally add few arguments:\n",
    "- _geo-folder_ (required) - path to the location where processed files have to be saved\n",
    "- _filter_ argument, to download only _bed_ files  (--filter \".Bed.gz$\") \n",
    "- _data-source_ argument, to download files only from sample location (--data-source samples)"
   ]
  },
  {
   "cell_type": "code",
   "execution_count": 12,
   "metadata": {},
   "outputs": [
    {
     "name": "stdout",
     "output_type": "stream",
     "text": [
      "Metadata folder: /home/bnt4me/Virginia/repos/geof2/geofetch/docs_jupyter\n",
      "Trying GSE185701 (not a file) as accession...\n",
      "Skipped 0 accessions. Starting now.\n",
      "\u001b[38;5;200mProcessing accession 1 of 1: 'GSE185701'\u001b[0m\n",
      "--2022-06-10 14:53:15--  https://www.ncbi.nlm.nih.gov/geo/query/acc.cgi?targ=gse&acc=GSE185701&form=text&view=full\n",
      "Resolving www.ncbi.nlm.nih.gov (www.ncbi.nlm.nih.gov)... 2607:f220:41e:4290::110, 130.14.29.110\n",
      "Connecting to www.ncbi.nlm.nih.gov (www.ncbi.nlm.nih.gov)|2607:f220:41e:4290::110|:443... connected.\n",
      "HTTP request sent, awaiting response... 200 OK\n",
      "Length: unspecified [geo/text]\n",
      "Saving to: ‘/home/bnt4me/Virginia/repos/geof2/geofetch/docs_jupyter/GSE185701_GSE.soft’\n",
      "\n",
      "/home/bnt4me/Virgin     [ <=>                ]   2.82K  --.-KB/s    in 0s      \n",
      "\n",
      "2022-06-10 14:53:16 (898 MB/s) - ‘/home/bnt4me/Virginia/repos/geof2/geofetch/docs_jupyter/GSE185701_GSE.soft’ saved [2885]\n",
      "\n",
      "--2022-06-10 14:53:16--  https://www.ncbi.nlm.nih.gov/geo/query/acc.cgi?targ=gsm&acc=GSE185701&form=text&view=full\n",
      "Resolving www.ncbi.nlm.nih.gov (www.ncbi.nlm.nih.gov)... 2607:f220:41e:4290::110, 130.14.29.110\n",
      "Connecting to www.ncbi.nlm.nih.gov (www.ncbi.nlm.nih.gov)|2607:f220:41e:4290::110|:443... connected.\n",
      "HTTP request sent, awaiting response... 200 OK\n",
      "Length: unspecified [geo/text]\n",
      "Saving to: ‘/home/bnt4me/Virginia/repos/geof2/geofetch/docs_jupyter/GSE185701_GSM.soft’\n",
      "\n",
      "/home/bnt4me/Virgin     [  <=>               ]  39.51K   180KB/s    in 0.2s    \n",
      "\n",
      "2022-06-10 14:53:16 (180 KB/s) - ‘/home/bnt4me/Virginia/repos/geof2/geofetch/docs_jupyter/GSE185701_GSM.soft’ saved [40454]\n",
      "\n",
      "\u001b[38;5;242m\n",
      "--2022-06-10 14:53:16--  ftp://ftp.ncbi.nlm.nih.gov/geo/series/GSE185nnn/GSE185701/suppl/filelist.txt\n",
      "           => ‘/home/bnt4me/Virginia/repos/geof2/geofetch/docs_jupyter/GSE185701_file_list.txt’\n",
      "Resolving ftp.ncbi.nlm.nih.gov (ftp.ncbi.nlm.nih.gov)... 2607:f220:41f:250::230, 2607:f220:41e:250::12, 165.112.9.228, ...\n",
      "Connecting to ftp.ncbi.nlm.nih.gov (ftp.ncbi.nlm.nih.gov)|2607:f220:41f:250::230|:21... connected.\n",
      "Logging in as anonymous ... Logged in!\n",
      "==> SYST ... done.    ==> PWD ... done.\n",
      "==> TYPE I ... done.  ==> CWD (1) /geo/series/GSE185nnn/GSE185701/suppl ... done.\n",
      "==> SIZE filelist.txt ... 794\n",
      "==> EPSV ... done.    ==> RETR filelist.txt ... done.\n",
      "Length: 794 (unauthoritative)\n",
      "\n",
      "filelist.txt        100%[===================>]     794  --.-KB/s    in 0s      \n",
      "\n",
      "2022-06-10 14:53:17 (285 MB/s) - ‘/home/bnt4me/Virginia/repos/geof2/geofetch/docs_jupyter/GSE185701_file_list.txt’ saved [794]\n",
      "\n",
      "\u001b[38;5;242m0\u001b[0m\n",
      "\u001b[0m\n",
      "Total number of processed SAMPLES files found is: 8\n",
      "\u001b[32mTotal number of files after filter is: 4 \u001b[0m\n",
      "Total number of processed SERIES files found is: 1\n",
      "\u001b[32mTotal number of files after filter is: 0 \u001b[0m\n",
      "Expanding metadata list...\n",
      "Expanding metadata list...\n",
      "\u001b[38;5;242m\n",
      "--2022-06-10 14:53:17--  ftp://ftp.ncbi.nlm.nih.gov/geo/samples/GSM5621nnn/GSM5621756/suppl/GSM5621756_ChIPseq_Huh7_siNC_H3K27ac_summits.bed.gz\n",
      "           => ‘/home/bnt4me/Virginia/for_docs/geo/GSE185701/GSM5621756_ChIPseq_Huh7_siNC_H3K27ac_summits.bed.gz’\n",
      "Resolving ftp.ncbi.nlm.nih.gov (ftp.ncbi.nlm.nih.gov)... 2607:f220:41f:250::230, 2607:f220:41e:250::12, 165.112.9.228, ...\n",
      "Connecting to ftp.ncbi.nlm.nih.gov (ftp.ncbi.nlm.nih.gov)|2607:f220:41f:250::230|:21... connected.\n",
      "Logging in as anonymous ... Logged in!\n",
      "==> SYST ... done.    ==> PWD ... done.\n",
      "==> TYPE I ... done.  ==> CWD (1) /geo/samples/GSM5621nnn/GSM5621756/suppl ... done.\n",
      "==> SIZE GSM5621756_ChIPseq_Huh7_siNC_H3K27ac_summits.bed.gz ... 785486\n",
      "==> EPSV ... done.    ==> RETR GSM5621756_ChIPseq_Huh7_siNC_H3K27ac_summits.bed.gz ... done.\n",
      "Length: 785486 (767K) (unauthoritative)\n",
      "\n",
      "GSM5621756_ChIPseq_ 100%[===================>] 767.08K  2.46MB/s    in 0.3s    \n",
      "\n",
      "2022-06-10 14:53:19 (2.46 MB/s) - ‘/home/bnt4me/Virginia/for_docs/geo/GSE185701/GSM5621756_ChIPseq_Huh7_siNC_H3K27ac_summits.bed.gz’ saved [785486]\n",
      "\n",
      "\u001b[38;5;242m0\u001b[0m\n",
      "\u001b[0m\n",
      "\u001b[92mFile /home/bnt4me/Virginia/for_docs/geo/GSE185701/GSM5621756_ChIPseq_Huh7_siNC_H3K27ac_summits.bed.gz has been downloaded successfully\u001b[0m\n",
      "\u001b[38;5;242m\n",
      "--2022-06-10 14:53:20--  ftp://ftp.ncbi.nlm.nih.gov/geo/samples/GSM5621nnn/GSM5621758/suppl/GSM5621758_ChIPseq_Huh7_siDHX37_H3K27ac_summits.bed.gz\n",
      "           => ‘/home/bnt4me/Virginia/for_docs/geo/GSE185701/GSM5621758_ChIPseq_Huh7_siDHX37_H3K27ac_summits.bed.gz’\n",
      "Resolving ftp.ncbi.nlm.nih.gov (ftp.ncbi.nlm.nih.gov)... 2607:f220:41f:250::230, 2607:f220:41e:250::12, 165.112.9.228, ...\n",
      "Connecting to ftp.ncbi.nlm.nih.gov (ftp.ncbi.nlm.nih.gov)|2607:f220:41f:250::230|:21... connected.\n",
      "Logging in as anonymous ... Logged in!\n",
      "==> SYST ... done.    ==> PWD ... done.\n",
      "==> TYPE I ... done.  ==> CWD (1) /geo/samples/GSM5621nnn/GSM5621758/suppl ... done.\n",
      "==> SIZE GSM5621758_ChIPseq_Huh7_siDHX37_H3K27ac_summits.bed.gz ... 784432\n",
      "==> EPSV ... done.    ==> RETR GSM5621758_ChIPseq_Huh7_siDHX37_H3K27ac_summits.bed.gz ... done.\n",
      "Length: 784432 (766K) (unauthoritative)\n",
      "\n",
      "GSM5621758_ChIPseq_ 100%[===================>] 766.05K  2.99MB/s    in 0.2s    \n",
      "\n",
      "2022-06-10 14:53:20 (2.99 MB/s) - ‘/home/bnt4me/Virginia/for_docs/geo/GSE185701/GSM5621758_ChIPseq_Huh7_siDHX37_H3K27ac_summits.bed.gz’ saved [784432]\n",
      "\n",
      "\u001b[38;5;242m0\u001b[0m\n",
      "\u001b[0m\n",
      "\u001b[92mFile /home/bnt4me/Virginia/for_docs/geo/GSE185701/GSM5621758_ChIPseq_Huh7_siDHX37_H3K27ac_summits.bed.gz has been downloaded successfully\u001b[0m\n",
      "\u001b[38;5;242m\n",
      "--2022-06-10 14:53:21--  ftp://ftp.ncbi.nlm.nih.gov/geo/samples/GSM5621nnn/GSM5621760/suppl/GSM5621760_CUTTag_Huh7_DHX37_summits.bed.gz\n",
      "           => ‘/home/bnt4me/Virginia/for_docs/geo/GSE185701/GSM5621760_CUTTag_Huh7_DHX37_summits.bed.gz’\n",
      "Resolving ftp.ncbi.nlm.nih.gov (ftp.ncbi.nlm.nih.gov)... 2607:f220:41f:250::230, 2607:f220:41e:250::12, 165.112.9.228, ...\n",
      "Connecting to ftp.ncbi.nlm.nih.gov (ftp.ncbi.nlm.nih.gov)|2607:f220:41f:250::230|:21... connected.\n",
      "Logging in as anonymous ... Logged in!\n",
      "==> SYST ... done.    ==> PWD ... done.\n",
      "==> TYPE I ... done.  ==> CWD (1) /geo/samples/GSM5621nnn/GSM5621760/suppl ... done.\n",
      "==> SIZE GSM5621760_CUTTag_Huh7_DHX37_summits.bed.gz ... 163441\n",
      "==> EPSV ... done.    ==> RETR GSM5621760_CUTTag_Huh7_DHX37_summits.bed.gz ... done.\n",
      "Length: 163441 (160K) (unauthoritative)\n",
      "\n",
      "GSM5621760_CUTTag_H 100%[===================>] 159.61K   733KB/s    in 0.2s    \n",
      "\n",
      "2022-06-10 14:53:22 (733 KB/s) - ‘/home/bnt4me/Virginia/for_docs/geo/GSE185701/GSM5621760_CUTTag_Huh7_DHX37_summits.bed.gz’ saved [163441]\n",
      "\n",
      "\u001b[38;5;242m0\u001b[0m\n",
      "\u001b[0m\n",
      "\u001b[92mFile /home/bnt4me/Virginia/for_docs/geo/GSE185701/GSM5621760_CUTTag_Huh7_DHX37_summits.bed.gz has been downloaded successfully\u001b[0m\n",
      "\u001b[38;5;242m\n",
      "--2022-06-10 14:53:22--  ftp://ftp.ncbi.nlm.nih.gov/geo/samples/GSM5621nnn/GSM5621761/suppl/GSM5621761_CUTTag_Huh7_PLRG1_summits.bed.gz\n",
      "           => ‘/home/bnt4me/Virginia/for_docs/geo/GSE185701/GSM5621761_CUTTag_Huh7_PLRG1_summits.bed.gz’\n",
      "Resolving ftp.ncbi.nlm.nih.gov (ftp.ncbi.nlm.nih.gov)... 2607:f220:41f:250::230, 2607:f220:41e:250::12, 165.112.9.228, ...\n",
      "Connecting to ftp.ncbi.nlm.nih.gov (ftp.ncbi.nlm.nih.gov)|2607:f220:41f:250::230|:21... connected.\n",
      "Logging in as anonymous ... Logged in!\n",
      "==> SYST ... done.    ==> PWD ... done.\n",
      "==> TYPE I ... done.  ==> CWD (1) /geo/samples/GSM5621nnn/GSM5621761/suppl ... done.\n",
      "==> SIZE GSM5621761_CUTTag_Huh7_PLRG1_summits.bed.gz ... 117250\n",
      "==> EPSV ... done.    ==> RETR GSM5621761_CUTTag_Huh7_PLRG1_summits.bed.gz ... done.\n",
      "Length: 117250 (115K) (unauthoritative)\n",
      "\n",
      "GSM5621761_CUTTag_H 100%[===================>] 114.50K  --.-KB/s    in 0.1s    \n",
      "\n",
      "2022-06-10 14:53:23 (937 KB/s) - ‘/home/bnt4me/Virginia/for_docs/geo/GSE185701/GSM5621761_CUTTag_Huh7_PLRG1_summits.bed.gz’ saved [117250]\n",
      "\n",
      "\u001b[38;5;242m0\u001b[0m\n",
      "\u001b[0m\n",
      "\u001b[92mFile /home/bnt4me/Virginia/for_docs/geo/GSE185701/GSM5621761_CUTTag_Huh7_PLRG1_summits.bed.gz has been downloaded successfully\u001b[0m\n",
      "Finished processing 1 accession(s)\n",
      "Unifying and saving of metadata... \n",
      "\u001b[92mFile /home/bnt4me/Virginia/repos/geof2/geofetch/docs_jupyter/GSE185701_samples.csv has been saved successfully\u001b[0m\n",
      "  Config file: /home/bnt4me/Virginia/repos/geof2/geofetch/docs_jupyter/GSE185701_samples.yaml\n"
     ]
    }
   ],
   "source": [
    "geofetch -i GSE185701 --processed -n bright_test --filter \".bed.gz$\" --data-source samples \\\n",
    "--geo-folder /home/bnt4me/Virginia/for_docs/geo"
   ]
  },
  {
   "cell_type": "markdown",
   "metadata": {},
   "source": [
    "Now lets list the folder to see what data is there. And let's see what's in pep files now."
   ]
  },
  {
   "cell_type": "code",
   "execution_count": 13,
   "metadata": {},
   "outputs": [
    {
     "name": "stdout",
     "output_type": "stream",
     "text": [
      "\u001b[0m\u001b[01;31mGSM5621756_ChIPseq_Huh7_siNC_H3K27ac_summits.bed.gz\u001b[0m\n",
      "\u001b[01;31mGSM5621758_ChIPseq_Huh7_siDHX37_H3K27ac_summits.bed.gz\u001b[0m\n",
      "\u001b[01;31mGSM5621760_CUTTag_Huh7_DHX37_summits.bed.gz\u001b[0m\n",
      "\u001b[01;31mGSM5621761_CUTTag_Huh7_PLRG1_summits.bed.gz\u001b[0m\n"
     ]
    }
   ],
   "source": [
    "ls /home/bnt4me/Virginia/for_docs/geo/GSE185701"
   ]
  },
  {
   "cell_type": "code",
   "execution_count": 10,
   "metadata": {},
   "outputs": [
    {
     "name": "stdout",
     "output_type": "stream",
     "text": [
      "GSE,Sample_title,Sample_geo_accession,Sample_status,Sample_submission_date,Sample_last_update_date,S\n",
      "GSE185701,Huh7_siNC_H3K27ac,GSM5621756,Public on Mar 01 2022,Oct 12 2021,Mar 03 2022,SRA,1,Huh 7,Hom\n",
      "GSE185701,Huh7_siDHX37_H3K27ac,GSM5621758,Public on Mar 01 2022,Oct 12 2021,Mar 03 2022,SRA,1,Huh 7,\n",
      "GSE185701,Huh7_DHX37,GSM5621760,Public on Mar 01 2022,Oct 12 2021,Mar 03 2022,SRA,1,Huh 7,Homo sapie\n",
      "GSE185701,Huh7_PLRG1,GSM5621761,Public on Mar 01 2022,Oct 12 2021,Mar 03 2022,SRA,1,Huh 7,Homo sapie\n"
     ]
    }
   ],
   "source": [
    "cut -c -100 bright_test/bright_test_annotation_sample_processed.csv"
   ]
  },
  {
   "cell_type": "code",
   "execution_count": 11,
   "metadata": {},
   "outputs": [
    {
     "name": "stdout",
     "output_type": "stream",
     "text": [
      "pep_version: 2.0.0\n",
      "project_name: bright_test\n",
      "sample_table: /home/bnt4me/Virginia/repos/geof2/geofetch/docs_jupyter/bright_test/bright_test_annotation_sample_processed.csv\n",
      "\n",
      "sample_modifiers:\n",
      "  append:\n",
      "    output_file_path: FILES\n",
      "  derive:\n",
      "    attributes: [output_file_path]\n",
      "    sources:\n",
      "      FILES: /home/bnt4me/Virginia/for_docs/geo/{SRA}/{sample_name}\n",
      "\n",
      "\n"
     ]
    }
   ],
   "source": [
    "cat bright_test/bright_test_annotation_sample_processed.yaml"
   ]
  },
  {
   "cell_type": "markdown",
   "metadata": {},
   "source": [
    "Now we have easy access to this data by using [peppy](http://peppy.databio.org/en/latest/) package in python or [pepr](https://code.databio.org/pepr/) in r in further analysis "
   ]
  }
 ],
 "metadata": {
  "kernelspec": {
   "display_name": "Bash",
   "language": "bash",
   "name": "bash"
  },
  "language_info": {
   "codemirror_mode": "shell",
   "file_extension": ".sh",
   "mimetype": "text/x-sh",
   "name": "bash"
  }
 },
 "nbformat": 4,
 "nbformat_minor": 2
}
